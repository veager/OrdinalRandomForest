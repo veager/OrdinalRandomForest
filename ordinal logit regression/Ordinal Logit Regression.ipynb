{
 "cells": [
  {
   "cell_type": "code",
   "id": "initial_id",
   "metadata": {
    "collapsed": true,
    "ExecuteTime": {
     "end_time": "2024-06-01T07:03:17.554534Z",
     "start_time": "2024-06-01T07:03:17.519527Z"
    }
   },
   "source": [
    "import numpy as np\n",
    "import pandas as pd\n",
    "import scipy.stats as stats\n",
    "\n",
    "from statsmodels.miscmodels.ordinal_model import OrderedModel"
   ],
   "outputs": [],
   "execution_count": 7
  },
  {
   "metadata": {},
   "cell_type": "markdown",
   "source": [
    "# Tutorial:\n",
    "\n",
    "- Ordinal Regression, *Statsmodels Document*, [site](https://www.statsmodels.org/stable/examples/notebooks/generated/ordinal_regression.html)\n",
    "\n",
    "- ORDINAL LOGISTIC REGRESSION | R DATA ANALYSIS EXAMPLES, *UCLA Statistical Methods and Data Analysis*, [site](https://stats.oarc.ucla.edu/r/dae/ordinal-logistic-regression/)\n"
   ],
   "id": "a108981c37598ddd"
  },
  {
   "metadata": {},
   "cell_type": "markdown",
   "source": "# 1. Data preparation",
   "id": "33a19052cec3b8f"
  },
  {
   "metadata": {
    "ExecuteTime": {
     "end_time": "2024-06-01T07:10:15.725982Z",
     "start_time": "2024-06-01T07:10:14.530103Z"
    }
   },
   "cell_type": "code",
   "source": [
    "url = \"https://stats.idre.ucla.edu/stat/data/ologit.dta\"\n",
    "data_student = pd.read_stata(url)\n",
    "data_student.head(5)\n",
    "\n",
    "print(data_student.dtypes)\n",
    "\n",
    "endog = data_student['apply']\n",
    "exog = data_student[['pared', 'public', 'gpa']]\n",
    "\n",
    "\n",
    "print('\\nData types of \"endog\":', type(endog), \n",
    "      '\\nData types of elements in \"endog\":', endog.dtypes, \n",
    "      '\\nOrdered categories of \"endog\":', endog.cat.categories, )"
   ],
   "id": "71cd3200bc20f339",
   "outputs": [
    {
     "name": "stdout",
     "output_type": "stream",
     "text": [
      "apply     category\n",
      "pared         int8\n",
      "public        int8\n",
      "gpa        float32\n",
      "dtype: object\n",
      "\n",
      "Data types of \"endog\" <class 'pandas.core.series.Series'> \n",
      "Data types of elements in \"endog\" category \n",
      "Ordered categories of \"endog\" Index(['unlikely', 'somewhat likely', 'very likely'], dtype='object')\n"
     ]
    }
   ],
   "execution_count": 24
  },
  {
   "metadata": {
    "ExecuteTime": {
     "end_time": "2024-06-01T07:10:53.728296Z",
     "start_time": "2024-06-01T07:10:53.477230Z"
    }
   },
   "cell_type": "code",
   "source": [
    "mod = OrderedModel(\n",
    "    endog = endog,\n",
    "    exog = exog,\n",
    "    distr = 'probit') # 'logit'\n",
    "\n",
    "res = mod.fit(method='bfgs', maxiter=100)\n",
    "res.summary()"
   ],
   "id": "92116573990b225e",
   "outputs": [
    {
     "name": "stdout",
     "output_type": "stream",
     "text": [
      "Optimization terminated successfully.\n",
      "         Current function value: 0.896869\n",
      "         Iterations: 17\n",
      "         Function evaluations: 21\n",
      "         Gradient evaluations: 21\n"
     ]
    },
    {
     "data": {
      "text/plain": [
       "<class 'statsmodels.iolib.summary.Summary'>\n",
       "\"\"\"\n",
       "                             OrderedModel Results                             \n",
       "==============================================================================\n",
       "Dep. Variable:                  apply   Log-Likelihood:                -358.75\n",
       "Model:                   OrderedModel   AIC:                             727.5\n",
       "Method:            Maximum Likelihood   BIC:                             747.5\n",
       "Date:                Sat, 01 Jun 2024                                         \n",
       "Time:                        15:10:53                                         \n",
       "No. Observations:                 400                                         \n",
       "Df Residuals:                     395                                         \n",
       "Df Model:                           3                                         \n",
       "===============================================================================================\n",
       "                                  coef    std err          z      P>|z|      [0.025      0.975]\n",
       "-----------------------------------------------------------------------------------------------\n",
       "pared                           0.5981      0.158      3.789      0.000       0.289       0.908\n",
       "public                          0.0102      0.173      0.059      0.953      -0.329       0.349\n",
       "gpa                             0.3582      0.157      2.285      0.022       0.051       0.665\n",
       "unlikely/somewhat likely        1.2968      0.468      2.774      0.006       0.381       2.213\n",
       "somewhat likely/very likely     0.1873      0.074      2.530      0.011       0.042       0.332\n",
       "===============================================================================================\n",
       "\"\"\""
      ],
      "text/html": [
       "<table class=\"simpletable\">\n",
       "<caption>OrderedModel Results</caption>\n",
       "<tr>\n",
       "  <th>Dep. Variable:</th>           <td>apply</td>       <th>  Log-Likelihood:    </th> <td> -358.75</td>\n",
       "</tr>\n",
       "<tr>\n",
       "  <th>Model:</th>               <td>OrderedModel</td>    <th>  AIC:               </th> <td>   727.5</td>\n",
       "</tr>\n",
       "<tr>\n",
       "  <th>Method:</th>           <td>Maximum Likelihood</td> <th>  BIC:               </th> <td>   747.5</td>\n",
       "</tr>\n",
       "<tr>\n",
       "  <th>Date:</th>              <td>Sat, 01 Jun 2024</td>  <th>                     </th>     <td> </td>   \n",
       "</tr>\n",
       "<tr>\n",
       "  <th>Time:</th>                  <td>15:10:53</td>      <th>                     </th>     <td> </td>   \n",
       "</tr>\n",
       "<tr>\n",
       "  <th>No. Observations:</th>       <td>   400</td>       <th>                     </th>     <td> </td>   \n",
       "</tr>\n",
       "<tr>\n",
       "  <th>Df Residuals:</th>           <td>   395</td>       <th>                     </th>     <td> </td>   \n",
       "</tr>\n",
       "<tr>\n",
       "  <th>Df Model:</th>               <td>     3</td>       <th>                     </th>     <td> </td>   \n",
       "</tr>\n",
       "</table>\n",
       "<table class=\"simpletable\">\n",
       "<tr>\n",
       "               <td></td>                  <th>coef</th>     <th>std err</th>      <th>z</th>      <th>P>|z|</th>  <th>[0.025</th>    <th>0.975]</th>  \n",
       "</tr>\n",
       "<tr>\n",
       "  <th>pared</th>                       <td>    0.5981</td> <td>    0.158</td> <td>    3.789</td> <td> 0.000</td> <td>    0.289</td> <td>    0.908</td>\n",
       "</tr>\n",
       "<tr>\n",
       "  <th>public</th>                      <td>    0.0102</td> <td>    0.173</td> <td>    0.059</td> <td> 0.953</td> <td>   -0.329</td> <td>    0.349</td>\n",
       "</tr>\n",
       "<tr>\n",
       "  <th>gpa</th>                         <td>    0.3582</td> <td>    0.157</td> <td>    2.285</td> <td> 0.022</td> <td>    0.051</td> <td>    0.665</td>\n",
       "</tr>\n",
       "<tr>\n",
       "  <th>unlikely/somewhat likely</th>    <td>    1.2968</td> <td>    0.468</td> <td>    2.774</td> <td> 0.006</td> <td>    0.381</td> <td>    2.213</td>\n",
       "</tr>\n",
       "<tr>\n",
       "  <th>somewhat likely/very likely</th> <td>    0.1873</td> <td>    0.074</td> <td>    2.530</td> <td> 0.011</td> <td>    0.042</td> <td>    0.332</td>\n",
       "</tr>\n",
       "</table>"
      ],
      "text/latex": "\\begin{center}\n\\begin{tabular}{lclc}\n\\toprule\n\\textbf{Dep. Variable:}              &       apply        & \\textbf{  Log-Likelihood:    } &   -358.75   \\\\\n\\textbf{Model:}                      &    OrderedModel    & \\textbf{  AIC:               } &     727.5   \\\\\n\\textbf{Method:}                     & Maximum Likelihood & \\textbf{  BIC:               } &     747.5   \\\\\n\\textbf{Date:}                       &  Sat, 01 Jun 2024  & \\textbf{                     } &             \\\\\n\\textbf{Time:}                       &      15:10:53      & \\textbf{                     } &             \\\\\n\\textbf{No. Observations:}           &          400       & \\textbf{                     } &             \\\\\n\\textbf{Df Residuals:}               &          395       & \\textbf{                     } &             \\\\\n\\textbf{Df Model:}                   &            3       & \\textbf{                     } &             \\\\\n\\bottomrule\n\\end{tabular}\n\\begin{tabular}{lcccccc}\n                                     & \\textbf{coef} & \\textbf{std err} & \\textbf{z} & \\textbf{P$> |$z$|$} & \\textbf{[0.025} & \\textbf{0.975]}  \\\\\n\\midrule\n\\textbf{pared}                       &       0.5981  &        0.158     &     3.789  &         0.000        &        0.289    &        0.908     \\\\\n\\textbf{public}                      &       0.0102  &        0.173     &     0.059  &         0.953        &       -0.329    &        0.349     \\\\\n\\textbf{gpa}                         &       0.3582  &        0.157     &     2.285  &         0.022        &        0.051    &        0.665     \\\\\n\\textbf{unlikely/somewhat likely}    &       1.2968  &        0.468     &     2.774  &         0.006        &        0.381    &        2.213     \\\\\n\\textbf{somewhat likely/very likely} &       0.1873  &        0.074     &     2.530  &         0.011        &        0.042    &        0.332     \\\\\n\\bottomrule\n\\end{tabular}\n%\\caption{OrderedModel Results}\n\\end{center}"
     },
     "execution_count": 25,
     "metadata": {},
     "output_type": "execute_result"
    }
   ],
   "execution_count": 25
  },
  {
   "metadata": {},
   "cell_type": "code",
   "execution_count": null,
   "source": [
    "class OrdinalRegression():\n",
    "    def __init__(self, endog, exog, distr='probit'):\n",
    "        '''\n",
    "        \n",
    "        :param endog: \n",
    "            endogenous variables, aka dependent, response, target, or y\n",
    "        :param exog: \n",
    "            exogenous variables, aka independent, features, predictors, or X\n",
    "        :param distr: \n",
    "            distribution to use, either 'probit' or 'logit'\n",
    "        '''\n",
    "        \n",
    "        self.endog = endog.values\n",
    "        self.exog = exog.values\n",
    "        self.distr = distr\n",
    "        \n",
    "        self.nobs = self.exog.shape[0]\n",
    "        self.n_params = self.exog.shape[1]\n",
    "        # number of categories in the endogenous variable\n",
    "        self.n_cats = len(np.unique(self.endog))\n",
    "        \n",
    "        # random initialization of parameters\n",
    "        self.params = 1 - np.random.rand(self.n_params)\n",
    "        self.thresholds = 1 - np.random.rand(self.n_cats - 1)\n",
    "        \n",
    "        self.exog_names = exog.columns.to_list()\n",
    "        self.endog_name = endog.name\n",
    "    # ----------------------------------------------------------\n",
    "    \n",
    "    def fit(self, method='bfgs', maxiter=100, tol=1e-6):\n",
    "        if self.distr == 'probit':\n",
    "            self.model = OrderedModel(self.endog, self.exog, distr='probit')\n",
    "        elif self.distr == 'logit':\n",
    "            self.model = OrderedModel(self.endog, self.exog, distr='logit')\n",
    "        else:\n",
    "            raise ValueError(\"Unknown distribution\")\n",
    "        \n",
    "        self.results = self.model.fit(method=method, maxiter=maxiter, tol=tol)\n",
    "        return self.results\n",
    "    # ----------------------------------------------------------\n",
    "    def probability(self):\n",
    "\n",
    "    # ----------------------------------------------------------\n",
    "    def probability_obs(self, params):\n",
    "        '''\n",
    "        Log-likelihood of OrderdModel for all observations.\n",
    "        :return: \n",
    "        '''\n",
    "        mat_wx = np.dot(self.exog, params)\n",
    "        \n",
    "        return\n",
    "    # ----------------------------------------------------------\n",
    "    def log_likelihood_obs(self, params, thresholds):\n",
    "        '''\n",
    "        Log-likelihood of OrderdModel for all observations.\n",
    "        :return: \n",
    "        '''\n",
    "        wx = np.dot(self.exog, params)\n",
    "        \n",
    "        \n",
    "        return \n",
    "    # ----------------------------------------------------------"
   ],
   "id": "53ceed0b2ce3ea51",
   "outputs": []
  },
  {
   "metadata": {
    "ExecuteTime": {
     "end_time": "2024-05-08T11:50:02.112087Z",
     "start_time": "2024-05-08T11:50:02.060495Z"
    }
   },
   "cell_type": "code",
   "source": "",
   "id": "be5070231d6dc53c",
   "execution_count": 12,
   "outputs": []
  },
  {
   "metadata": {
    "ExecuteTime": {
     "end_time": "2024-05-08T11:50:08.741940Z",
     "start_time": "2024-05-08T11:50:08.720895Z"
    }
   },
   "cell_type": "code",
   "source": "",
   "id": "b0b0fa9c40fbc561",
   "execution_count": 13,
   "outputs": []
  },
  {
   "metadata": {},
   "cell_type": "code",
   "execution_count": null,
   "source": "",
   "id": "e2787366a3c8d76",
   "outputs": []
  }
 ],
 "metadata": {
  "kernelspec": {
   "display_name": "Python 3",
   "language": "python",
   "name": "python3"
  },
  "language_info": {
   "codemirror_mode": {
    "name": "ipython",
    "version": 2
   },
   "file_extension": ".py",
   "mimetype": "text/x-python",
   "name": "python",
   "nbconvert_exporter": "python",
   "pygments_lexer": "ipython2",
   "version": "2.7.6"
  }
 },
 "nbformat": 4,
 "nbformat_minor": 5
}
