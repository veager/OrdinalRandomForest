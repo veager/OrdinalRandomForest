{
 "cells": [
  {
   "cell_type": "code",
   "id": "initial_id",
   "metadata": {
    "collapsed": true,
    "ExecuteTime": {
     "end_time": "2024-05-10T06:57:30.818248Z",
     "start_time": "2024-05-10T06:57:23.212451Z"
    }
   },
   "source": "import pandas as pd",
   "outputs": [],
   "execution_count": 2
  },
  {
   "metadata": {},
   "cell_type": "markdown",
   "source": "",
   "id": "3ed13ca7bf9a4e0c"
  },
  {
   "metadata": {
    "ExecuteTime": {
     "end_time": "2024-05-10T07:34:12.060726Z",
     "start_time": "2024-05-10T07:34:10.896225Z"
    }
   },
   "cell_type": "code",
   "source": [
    "url = \"https://stats.idre.ucla.edu/stat/data/ologit.dta\"\n",
    "data_student = pd.read_stata(url)\n",
    "data_X = data_student[['pared', 'public', 'gpa']]\n",
    "\n",
    "# ordinal data\n",
    "data_Y = data_student['apply']\n",
    "print(type(data_Y), data_Y.dtypes)"
   ],
   "id": "9009855ec75517f9",
   "outputs": [
    {
     "name": "stdout",
     "output_type": "stream",
     "text": [
      "<class 'pandas.core.series.Series'> category\n"
     ]
    }
   ],
   "execution_count": 28
  },
  {
   "metadata": {
    "ExecuteTime": {
     "end_time": "2024-05-10T07:34:13.663727Z",
     "start_time": "2024-05-10T07:34:13.624726Z"
    }
   },
   "cell_type": "code",
   "source": [
    "import pandas as pd\n",
    "from pandas.api.types import CategoricalDtype\n",
    "# define a categorical data type\n",
    "# Note: this is a instance of data type (like 'float', 'int'), not a series\n",
    "cat_type = CategoricalDtype(categories=['a', 'b', 'c'], ordered=True)\n",
    "# or \n",
    "cat_type = pd.CategoricalDtype(categories=['a', 'b', 'c'], ordered=True)\n",
    "\n",
    "print(type(cat_type))\n",
    "# <class 'pandas.api.types.CategoricalDtype'>"
   ],
   "id": "102e312276888b59",
   "outputs": [
    {
     "name": "stdout",
     "output_type": "stream",
     "text": [
      "<class 'pandas.core.dtypes.dtypes.CategoricalDtype'>\n"
     ]
    }
   ],
   "execution_count": 29
  },
  {
   "metadata": {
    "ExecuteTime": {
     "end_time": "2024-05-10T07:23:26.160153Z",
     "start_time": "2024-05-10T07:23:26.097647Z"
    }
   },
   "cell_type": "code",
   "source": [
    "# create a series with the categorical data type\n",
    "s = pd.Series(['a', 'b', 'c', 'a', 'b', 'c'], dtype=cat_type)\n",
    "# or\n",
    "s = pd.Series(['a', 'b', 'c', 'a', 'b', 'c']).astype(cat_type)\n",
    "# or\n",
    "s = pd.Series(pd.Categorical(['a', 'b', 'c', 'a', 'b', 'c'], categories=['a', 'b', 'c'], ordered=True))\n",
    "\n",
    "print(type(s))"
   ],
   "id": "387fce26b2d344f2",
   "outputs": [
    {
     "name": "stdout",
     "output_type": "stream",
     "text": [
      "<class 'pandas.core.series.Series'>\n"
     ]
    }
   ],
   "execution_count": 18
  },
  {
   "metadata": {
    "ExecuteTime": {
     "end_time": "2024-05-10T07:18:02.910755Z",
     "start_time": "2024-05-10T07:18:02.886750Z"
    }
   },
   "cell_type": "code",
   "source": [
    "cat_type = pd.Categorical(data_Y, categories=['unlikely', 'somewhat likely', 'very likely'], ordered=True)\n",
    "print(type(cat_type))"
   ],
   "id": "5e6ad078fad1cbac",
   "outputs": [
    {
     "name": "stdout",
     "output_type": "stream",
     "text": [
      "<class 'pandas.core.arrays.categorical.Categorical'>\n"
     ]
    }
   ],
   "execution_count": 14
  },
  {
   "metadata": {
    "ExecuteTime": {
     "end_time": "2024-05-10T07:21:30.997797Z",
     "start_time": "2024-05-10T07:21:30.962798Z"
    }
   },
   "cell_type": "code",
   "source": [
    "arr = pd.Categorical.from_codes(codes=[0, 1, 0, 1], dtype=pd.CategoricalDtype(['a', 'b'], ordered=True))\n",
    "\n",
    "print(type(arr))"
   ],
   "id": "b7a2fd1a7174eeca",
   "outputs": [
    {
     "name": "stdout",
     "output_type": "stream",
     "text": [
      "<class 'pandas.core.arrays.categorical.Categorical'>\n"
     ]
    }
   ],
   "execution_count": 17
  },
  {
   "metadata": {},
   "cell_type": "markdown",
   "source": "",
   "id": "c8f777a649e2ed15"
  },
  {
   "metadata": {
    "ExecuteTime": {
     "end_time": "2024-05-10T07:24:29.907852Z",
     "start_time": "2024-05-10T07:24:29.852847Z"
    }
   },
   "cell_type": "code",
   "source": "s.values.codes",
   "id": "73dafb274aca6787",
   "outputs": [
    {
     "data": {
      "text/plain": [
       "array([0, 1, 2, 0, 1, 2], dtype=int8)"
      ]
     },
     "execution_count": 25,
     "metadata": {},
     "output_type": "execute_result"
    }
   ],
   "execution_count": 25
  },
  {
   "metadata": {},
   "cell_type": "code",
   "outputs": [],
   "execution_count": null,
   "source": "",
   "id": "6924399792ef7c9f"
  },
  {
   "metadata": {},
   "cell_type": "markdown",
   "source": "",
   "id": "a5d3642ba58f618e"
  },
  {
   "metadata": {},
   "cell_type": "code",
   "outputs": [],
   "execution_count": null,
   "source": "",
   "id": "c3f55607d2a3813b"
  }
 ],
 "metadata": {
  "kernelspec": {
   "display_name": "Python 3",
   "language": "python",
   "name": "python3"
  },
  "language_info": {
   "codemirror_mode": {
    "name": "ipython",
    "version": 2
   },
   "file_extension": ".py",
   "mimetype": "text/x-python",
   "name": "python",
   "nbconvert_exporter": "python",
   "pygments_lexer": "ipython2",
   "version": "2.7.6"
  }
 },
 "nbformat": 4,
 "nbformat_minor": 5
}
