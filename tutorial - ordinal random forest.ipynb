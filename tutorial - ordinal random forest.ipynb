{
 "cells": [
  {
   "cell_type": "code",
   "id": "initial_id",
   "metadata": {
    "collapsed": true,
    "ExecuteTime": {
     "end_time": "2024-05-31T12:42:12.214218Z",
     "start_time": "2024-05-31T12:42:12.167189Z"
    }
   },
   "source": [
    "import numpy as np\n",
    "import pandas as pd\n",
    "\n",
    "from sklearn.model_selection import train_test_split\n",
    "\n",
    "from ordinalmodel.ordinal_model import OrdinalRandomForestClassifier\n",
    "from ordinalmodel.ordinal_measures import ranked_probability_score\n",
    "import ordinalmodel.utils as utils"
   ],
   "outputs": [],
   "execution_count": 11
  },
  {
   "metadata": {},
   "cell_type": "markdown",
   "source": "# 1. Load dataset",
   "id": "1b4ae6cd61941b18"
  },
  {
   "metadata": {},
   "cell_type": "markdown",
   "source": "#### (1) Student admission dataset",
   "id": "7611bac99220468"
  },
  {
   "metadata": {
    "ExecuteTime": {
     "end_time": "2024-05-31T12:42:13.471445Z",
     "start_time": "2024-05-31T12:42:12.287359Z"
    }
   },
   "cell_type": "code",
   "source": [
    "# Student admission dataset\n",
    "url = \"https://stats.idre.ucla.edu/stat/data/ologit.dta\"\n",
    "data_student = pd.read_stata(url)\n",
    "data_X = data_student[['pared', 'public', 'gpa']]\n",
    "data_Y = data_student['apply']\n",
    "# Data type of target variable ('data_Y'): CategoricalDtype(categories=['unlikely', 'somewhat likely', 'very likely'], ordered=True, categories_dtype=object)\n",
    "\n",
    "# Convert ordinal target into numeric target\n",
    "data_Y = utils.convert_target(data_Y, object_type='int')\n",
    "\n",
    "\n",
    "print('\\nShape of data:', data_X.shape, data_Y.shape,\n",
    "      '\\nDistribution of target variables:', data_Y.value_counts().sort_index().to_dict())"
   ],
   "id": "3d3e21cabe732cad",
   "outputs": [
    {
     "name": "stdout",
     "output_type": "stream",
     "text": [
      "\n",
      "Shape of data: (400, 3) (400,) \n",
      "Distribution of target variables: {0: 220, 1: 140, 2: 40}\n"
     ]
    }
   ],
   "execution_count": 12
  },
  {
   "metadata": {},
   "cell_type": "markdown",
   "source": "#### (2) Wine quality dataset",
   "id": "ce9c1b6c5a84e4fe"
  },
  {
   "metadata": {
    "ExecuteTime": {
     "end_time": "2024-05-31T12:42:13.579429Z",
     "start_time": "2024-05-31T12:42:13.503489Z"
    }
   },
   "cell_type": "code",
   "source": [
    "# Wine quality dataset\n",
    "from test_data.load_dataset import load_dataset\n",
    "data_X, data_Y = load_dataset('wine_quality', preprocess=True, split_target=True)\n",
    "\n",
    "# Convert numerical variable into ordinal variable\n",
    "data_Y = utils.convert_target(\n",
    "    data_Y, object_type='category', \n",
    "    mapper={3 : 'Low', 4 : 'Low', 5 : 'Low', 6 : 'Medium', 7 : 'Medium', 8 : 'High', 9 : 'High'})\n",
    "data_Y = utils.convert_target(data_Y, object_type='int')\n",
    "\n",
    "\n",
    "print('\\nShape of data:', data_X.shape, data_Y.shape,\n",
    "      '\\nDistribution of target variables:', data_Y.value_counts().sort_index().to_dict())"
   ],
   "id": "b90d9ad693017672",
   "outputs": [
    {
     "name": "stdout",
     "output_type": "stream",
     "text": [
      "['Low', 'Medium', 'High']\n",
      "\n",
      "Shape of data: (6497, 12) (6497,) \n",
      "Distribution of target variables: {0: 2384, 1: 3915, 2: 198}\n"
     ]
    }
   ],
   "execution_count": 13
  },
  {
   "metadata": {},
   "cell_type": "markdown",
   "source": "#### Split data into train and test sets",
   "id": "6d041c3d1dda67a6"
  },
  {
   "metadata": {
    "ExecuteTime": {
     "end_time": "2024-05-31T12:42:13.641299Z",
     "start_time": "2024-05-31T12:42:13.596713Z"
    }
   },
   "cell_type": "code",
   "source": [
    "# split data into train and test sets\n",
    "train_X, test_X, train_Y, test_Y = train_test_split(data_X, data_Y, test_size=0.3, random_state=42, stratify=data_Y)\n",
    "\n",
    "print('\\nShape of train data:', train_X.shape, train_Y.shape,\n",
    "      '\\nShape of test data:', test_X.shape, test_Y.shape,\n",
    "      '\\nDistribution of train target variables:', train_Y.value_counts().sort_index().to_dict(),\n",
    "      '\\nDistribution of test target variables:', test_Y.value_counts().sort_index().to_dict())"
   ],
   "id": "edf93830a2ba9ed1",
   "outputs": [
    {
     "name": "stdout",
     "output_type": "stream",
     "text": [
      "\n",
      "Shape of train data: (4547, 12) (4547,) \n",
      "Shape of test data: (1950, 12) (1950,) \n",
      "Distribution of train target variables: {0: 1668, 1: 2740, 2: 139} \n",
      "Distribution of test target variables: {0: 716, 1: 1175, 2: 59}\n"
     ]
    }
   ],
   "execution_count": 14
  },
  {
   "metadata": {},
   "cell_type": "markdown",
   "source": "# 2. Random Forest",
   "id": "8a49c1d0911b7f46"
  },
  {
   "metadata": {},
   "cell_type": "markdown",
   "source": "## 2.1 Ordinal Random Forest Classification",
   "id": "e76d34a0c9630f3f"
  },
  {
   "metadata": {},
   "cell_type": "markdown",
   "source": "#### (1) Ordinal Random Forest",
   "id": "65827a7bf8ea8c0a"
  },
  {
   "metadata": {
    "ExecuteTime": {
     "end_time": "2024-05-31T12:42:22.804655Z",
     "start_time": "2024-05-31T12:42:13.681627Z"
    }
   },
   "cell_type": "code",
   "source": [
    "model = OrdinalRandomForestClassifier(\n",
    "    probability_joint_type = 'independent',\n",
    "    model_params_kwargs = {\n",
    "        'n_estimators': 500, \n",
    "        'class_weight': 'balanced_subsample',\n",
    "        'max_depth': 8})\n",
    "model.fit(train_X, train_Y)\n",
    "\n",
    "# Predict\n",
    "# predict = model.predict(data_X)\n",
    "# predict_prob = model.predict_prob(data_X)\n",
    "# print(np.sum(np.abs(predict_prob.sum(axis=1) - 1)))\n",
    "\n",
    "\n",
    "utils.print_performance(train_Y, model.predict(train_X))\n",
    "print('Ranked Probability Score:', ranked_probability_score(train_Y.values, model.predict_proba(train_X)), )\n",
    "\n",
    "utils.print_performance(test_Y, model.predict(test_X))\n",
    "print('Ranked Probability Score:', ranked_probability_score(test_Y.values, model.predict_proba(test_X)), )"
   ],
   "id": "59c175f625be09f",
   "outputs": [
    {
     "name": "stdout",
     "output_type": "stream",
     "text": [
      "\n",
      "Accuracy: 0.812 \n",
      "Balanced accuracy: 0.88 \n",
      "Kappa: 0.651 \n",
      "Macro F1: 0.746\n",
      "Ranked Probability Score: 0.15422677229398118\n",
      "\n",
      "Accuracy: 0.714 \n",
      "Balanced accuracy: 0.668 \n",
      "Kappa: 0.463 \n",
      "Macro F1: 0.596\n",
      "Ranked Probability Score: 0.2012577770486077\n"
     ]
    }
   ],
   "execution_count": 15
  },
  {
   "metadata": {},
   "cell_type": "markdown",
   "source": "#### (2) Ordinal target to multiple binary targets",
   "id": "9dc3e88cde273c3a"
  },
  {
   "metadata": {
    "ExecuteTime": {
     "end_time": "2024-05-31T12:42:22.865602Z",
     "start_time": "2024-05-31T12:42:22.821049Z"
    }
   },
   "cell_type": "code",
   "source": [
    "# check the function convert the ordinal target into binary target (model.create_ordinal_target)\n",
    "data_Y_info = pd.concat(\n",
    "    [data_Y.rename('Y label', inplace=False),\n",
    "     pd.DataFrame(model.create_ordinal_target(data_Y.values),\n",
    "         index = data_Y.index, columns = [f'Y<={i}' for i in range(model.n_classes_-1)])],\n",
    "    axis=1)\n",
    "\n",
    "assert np.all(data_Y_info['Y<=1'].values >= data_Y_info['Y<=0'].values)\n",
    "# assert np.all(data_Y_info['Y label'] == data_Y_info[['Y<=0', 'Y<=1']].sum(axis=1))\n",
    "\n",
    "data_Y_info.sample(5)"
   ],
   "id": "7563f1eb558af7f3",
   "outputs": [
    {
     "data": {
      "text/plain": [
       "      Y label  Y<=0  Y<=1\n",
       "5892        0     1     1\n",
       "1936        1     0     1\n",
       "5612        0     1     1\n",
       "1422        0     1     1\n",
       "1465        0     1     1"
      ],
      "text/html": [
       "<div>\n",
       "<style scoped>\n",
       "    .dataframe tbody tr th:only-of-type {\n",
       "        vertical-align: middle;\n",
       "    }\n",
       "\n",
       "    .dataframe tbody tr th {\n",
       "        vertical-align: top;\n",
       "    }\n",
       "\n",
       "    .dataframe thead th {\n",
       "        text-align: right;\n",
       "    }\n",
       "</style>\n",
       "<table border=\"1\" class=\"dataframe\">\n",
       "  <thead>\n",
       "    <tr style=\"text-align: right;\">\n",
       "      <th></th>\n",
       "      <th>Y label</th>\n",
       "      <th>Y&lt;=0</th>\n",
       "      <th>Y&lt;=1</th>\n",
       "    </tr>\n",
       "  </thead>\n",
       "  <tbody>\n",
       "    <tr>\n",
       "      <th>5892</th>\n",
       "      <td>0</td>\n",
       "      <td>1</td>\n",
       "      <td>1</td>\n",
       "    </tr>\n",
       "    <tr>\n",
       "      <th>1936</th>\n",
       "      <td>1</td>\n",
       "      <td>0</td>\n",
       "      <td>1</td>\n",
       "    </tr>\n",
       "    <tr>\n",
       "      <th>5612</th>\n",
       "      <td>0</td>\n",
       "      <td>1</td>\n",
       "      <td>1</td>\n",
       "    </tr>\n",
       "    <tr>\n",
       "      <th>1422</th>\n",
       "      <td>0</td>\n",
       "      <td>1</td>\n",
       "      <td>1</td>\n",
       "    </tr>\n",
       "    <tr>\n",
       "      <th>1465</th>\n",
       "      <td>0</td>\n",
       "      <td>1</td>\n",
       "      <td>1</td>\n",
       "    </tr>\n",
       "  </tbody>\n",
       "</table>\n",
       "</div>"
      ]
     },
     "execution_count": 16,
     "metadata": {},
     "output_type": "execute_result"
    }
   ],
   "execution_count": 16
  },
  {
   "metadata": {},
   "cell_type": "markdown",
   "source": "#### (3) Feature importance",
   "id": "cc435271ef0cc6ba"
  },
  {
   "metadata": {
    "ExecuteTime": {
     "end_time": "2024-05-31T12:42:23.238647Z",
     "start_time": "2024-05-31T12:42:22.876820Z"
    }
   },
   "cell_type": "code",
   "source": [
    "# Feature importance\n",
    "feat_imp = pd.DataFrame(model.feature_importances_, columns=model.classes_[:-1], index=data_X.columns)\n",
    "feat_imp.plot.barh(stacked=True)"
   ],
   "id": "1f304e05bb658d9f",
   "outputs": [
    {
     "data": {
      "text/plain": [
       "<Axes: >"
      ]
     },
     "execution_count": 17,
     "metadata": {},
     "output_type": "execute_result"
    },
    {
     "data": {
      "text/plain": [
       "<Figure size 640x480 with 1 Axes>"
      ],
      "image/png": "[encoded data removed]"
     },
     "metadata": {},
     "output_type": "display_data"
    }
   ],
   "execution_count": 17
  },
  {
   "metadata": {
    "ExecuteTime": {
     "end_time": "2024-05-31T12:42:23.284563Z",
     "start_time": "2024-05-31T12:42:23.255550Z"
    }
   },
   "cell_type": "code",
   "source": "",
   "id": "22daf253f86e010f",
   "outputs": [],
   "execution_count": 17
  },
  {
   "metadata": {
    "ExecuteTime": {
     "end_time": "2024-05-31T12:42:23.937156Z",
     "start_time": "2024-05-31T12:42:23.305603Z"
    }
   },
   "cell_type": "code",
   "source": [
    "# (n_samples, n_classes-1), the probability directly derived from the binary model\n",
    "prob_raw         = model._predict_proba_raw(test_X.values)\n",
    "# (n_samples, n_classes), the joint probability based on independent assumption\n",
    "prob_independent = model._predict_proba_independent_joint(test_X.values)\n",
    "# (n_samples, n_classes), the joint probability based on conditional assumption\n",
    "prob_conditional = model._predict_proba_conditional_joint(test_X.values)"
   ],
   "id": "c95962a75b359866",
   "outputs": [],
   "execution_count": 18
  },
  {
   "metadata": {},
   "cell_type": "markdown",
   "source": "#### Random Forest Classification",
   "id": "80678d47f023c2da"
  },
  {
   "metadata": {
    "ExecuteTime": {
     "end_time": "2024-05-31T12:42:28.733019Z",
     "start_time": "2024-05-31T12:42:23.958332Z"
    }
   },
   "cell_type": "code",
   "source": [
    "from sklearn.ensemble import RandomForestClassifier\n",
    "\n",
    "model = RandomForestClassifier(\n",
    "    n_estimators=500, \n",
    "    max_depth=8,\n",
    "    class_weight='balanced_subsample')\n",
    "model.fit(train_X, train_Y)\n",
    "\n",
    "\n",
    "# Model performance\n",
    "utils.print_performance(train_Y, model.predict(train_X))\n",
    "print('Ranked Probability Score:', ranked_probability_score(train_Y.values, model.predict_proba(train_X)), )\n",
    "\n",
    "utils.print_performance(test_Y, model.predict(test_X))\n",
    "print('Ranked Probability Score:', ranked_probability_score(test_Y.values, model.predict_proba(test_X)), )\n",
    "\n",
    "\n",
    "# Feature importance\n",
    "feat_imp = pd.Series(model.feature_importances_, index=data_X.columns)\n",
    "feat_imp.plot.barh()"
   ],
   "id": "936fbea48322593c",
   "outputs": [
    {
     "name": "stdout",
     "output_type": "stream",
     "text": [
      "\n",
      "Accuracy: 0.814 \n",
      "Balanced accuracy: 0.877 \n",
      "Kappa: 0.648 \n",
      "Macro F1: 0.787\n",
      "Ranked Probability Score: 0.1578338556940552\n",
      "\n",
      "Accuracy: 0.734 \n",
      "Balanced accuracy: 0.667 \n",
      "Kappa: 0.483 \n",
      "Macro F1: 0.636\n",
      "Ranked Probability Score: 0.1968845614291283\n"
     ]
    },
    {
     "data": {
      "text/plain": [
       "<Axes: >"
      ]
     },
     "execution_count": 19,
     "metadata": {},
     "output_type": "execute_result"
    },
    {
     "data": {
      "text/plain": [
       "<Figure size 640x480 with 1 Axes>"
      ],
      "image/png": "[encoded data removed]"
     },
     "metadata": {},
     "output_type": "display_data"
    }
   ],
   "execution_count": 19
  },
  {
   "metadata": {
    "ExecuteTime": {
     "end_time": "2024-05-31T12:42:28.794824Z",
     "start_time": "2024-05-31T12:42:28.771257Z"
    }
   },
   "cell_type": "code",
   "source": "",
   "id": "19af69d23c7df7d",
   "outputs": [],
   "execution_count": 19
  }
 ],
 "metadata": {
  "kernelspec": {
   "display_name": "Python 3",
   "language": "python",
   "name": "python3"
  },
  "language_info": {
   "codemirror_mode": {
    "name": "ipython",
    "version": 2
   },
   "file_extension": ".py",
   "mimetype": "text/x-python",
   "name": "python",
   "nbconvert_exporter": "python",
   "pygments_lexer": "ipython2",
   "version": "2.7.6"
  }
 },
 "nbformat": 4,
 "nbformat_minor": 5
}
