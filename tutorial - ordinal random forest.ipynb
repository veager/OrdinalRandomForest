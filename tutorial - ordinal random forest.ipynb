{
 "cells": [
  {
   "cell_type": "code",
   "id": "initial_id",
   "metadata": {
    "collapsed": true,
    "ExecuteTime": {
     "end_time": "2024-05-30T10:17:08.495822Z",
     "start_time": "2024-05-30T10:17:08.446827Z"
    }
   },
   "source": [
    "import numpy as np\n",
    "import pandas as pd\n",
    "\n",
    "from sklearn.model_selection import train_test_split\n",
    "\n",
    "from ordinalmodel.ordinal_model import OrdinalRandomForestClassifier\n",
    "import ordinalmodel.utils as utils"
   ],
   "outputs": [],
   "execution_count": 5
  },
  {
   "metadata": {},
   "cell_type": "markdown",
   "source": "# 1. Load dataset",
   "id": "1b4ae6cd61941b18"
  },
  {
   "metadata": {},
   "cell_type": "markdown",
   "source": "#### (1) Student admission dataset",
   "id": "7611bac99220468"
  },
  {
   "metadata": {
    "ExecuteTime": {
     "end_time": "2024-05-30T10:17:17.949596Z",
     "start_time": "2024-05-30T10:17:16.736472Z"
    }
   },
   "cell_type": "code",
   "source": [
    "# Student admission dataset\n",
    "url = \"https://stats.idre.ucla.edu/stat/data/ologit.dta\"\n",
    "data_student = pd.read_stata(url)\n",
    "data_X = data_student[['pared', 'public', 'gpa']]\n",
    "data_Y = data_student['apply']\n",
    "# Data type of target variable ('data_Y'): CategoricalDtype(categories=['unlikely', 'somewhat likely', 'very likely'], ordered=True, categories_dtype=object)\n",
    "\n",
    "# Convert ordinal target into numeric target\n",
    "data_Y = utils.convert_target(data_Y, object_type='int')\n",
    "\n",
    "\n",
    "print('\\nShape of data:', data_X.shape, data_Y.shape,\n",
    "      '\\nDistribution of target variables:', data_Y.value_counts().sort_index().to_dict())"
   ],
   "id": "3d3e21cabe732cad",
   "outputs": [
    {
     "name": "stdout",
     "output_type": "stream",
     "text": [
      "\n",
      "Shape of data: (400, 3) (400,) \n",
      "Distribution of target variables: {0: 220, 1: 140, 2: 40}\n"
     ]
    }
   ],
   "execution_count": 6
  },
  {
   "metadata": {},
   "cell_type": "markdown",
   "source": "#### (2) Wine quality dataset",
   "id": "ce9c1b6c5a84e4fe"
  },
  {
   "metadata": {
    "ExecuteTime": {
     "end_time": "2024-05-30T10:17:28.466690Z",
     "start_time": "2024-05-30T10:17:28.264244Z"
    }
   },
   "cell_type": "code",
   "source": [
    "# Wine quality dataset\n",
    "from test_data.load_dataset import load_dataset\n",
    "data_X, data_Y = load_dataset('wine_quality', preprocess=True, split_target=True)\n",
    "\n",
    "# Convert numerical variable into ordinal variable\n",
    "data_Y = utils.convert_target(\n",
    "    data_Y, object_type='category', \n",
    "    mapper={3 : 'Low', 4 : 'Low', 5 : 'Low', 6 : 'Medium', 7 : 'Medium', 8 : 'High', 9 : 'High'})\n",
    "data_Y = utils.convert_target(data_Y, object_type='int')\n",
    "\n",
    "\n",
    "print('\\nShape of data:', data_X.shape, data_Y.shape,\n",
    "      '\\nDistribution of target variables:', data_Y.value_counts().sort_index().to_dict())"
   ],
   "id": "b90d9ad693017672",
   "outputs": [
    {
     "name": "stdout",
     "output_type": "stream",
     "text": [
      "['Low', 'Medium', 'High']\n",
      "\n",
      "Shape of data: (6497, 12) (6497,) \n",
      "Distribution of target variables: {0: 2384, 1: 3915, 2: 198}\n"
     ]
    }
   ],
   "execution_count": 7
  },
  {
   "metadata": {},
   "cell_type": "markdown",
   "source": "#### Split data into train and test sets",
   "id": "6d041c3d1dda67a6"
  },
  {
   "metadata": {
    "ExecuteTime": {
     "end_time": "2024-05-30T10:17:31.583346Z",
     "start_time": "2024-05-30T10:17:31.535347Z"
    }
   },
   "cell_type": "code",
   "source": [
    "# split data into train and test sets\n",
    "train_X, test_X, train_Y, test_Y = train_test_split(data_X, data_Y, test_size=0.3, random_state=42, stratify=data_Y)\n",
    "\n",
    "print('\\nShape of train data:', train_X.shape, train_Y.shape,\n",
    "      '\\nShape of test data:', test_X.shape, test_Y.shape,\n",
    "      '\\nDistribution of train target variables:', train_Y.value_counts().sort_index().to_dict(),\n",
    "      '\\nDistribution of test target variables:', test_Y.value_counts().sort_index().to_dict())"
   ],
   "id": "edf93830a2ba9ed1",
   "outputs": [
    {
     "name": "stdout",
     "output_type": "stream",
     "text": [
      "\n",
      "Shape of train data: (4547, 12) (4547,) \n",
      "Shape of test data: (1950, 12) (1950,) \n",
      "Distribution of train target variables: {0: 1668, 1: 2740, 2: 139} \n",
      "Distribution of test target variables: {0: 716, 1: 1175, 2: 59}\n"
     ]
    }
   ],
   "execution_count": 8
  },
  {
   "metadata": {},
   "cell_type": "markdown",
   "source": "# 2. Random Forest",
   "id": "8a49c1d0911b7f46"
  },
  {
   "metadata": {},
   "cell_type": "markdown",
   "source": "#### (1) Ordinal Random Forest",
   "id": "65827a7bf8ea8c0a"
  },
  {
   "metadata": {
    "ExecuteTime": {
     "end_time": "2024-05-30T10:17:54.095500Z",
     "start_time": "2024-05-30T10:17:47.760448Z"
    }
   },
   "cell_type": "code",
   "source": [
    "model = OrdinalRandomForestClassifier({'n_estimators': 500, 'max_depth': 8})\n",
    "model.fit(train_X, train_Y)\n",
    "\n",
    "# Predict\n",
    "# predict = model.predict(data_X)\n",
    "# predict_prob = model.predict_prob(data_X)\n",
    "# print(np.sum(np.abs(predict_prob.sum(axis=1) - 1)))\n",
    "\n",
    "# Feature importance\n",
    "feat_imp = pd.DataFrame(model.feature_importances_, columns=model.classes_[:-1], index=data_X.columns)\n",
    "feat_imp.plot.barh(stacked=True)\n",
    "\n",
    "utils.print_performance(test_Y, model.predict(test_X))"
   ],
   "id": "59c175f625be09f",
   "outputs": [
    {
     "name": "stdout",
     "output_type": "stream",
     "text": [
      "\n",
      "Accuracy: 0.755 \n",
      "Confusion matrix:\n",
      " [[ 441  275    0]\n",
      " [ 151 1024    0]\n",
      " [   0   51    8]] \n",
      "Classification report: \n",
      "               precision    recall  f1-score   support\n",
      "\n",
      "           0      0.745     0.616     0.674       716\n",
      "           1      0.759     0.871     0.811      1175\n",
      "           2      1.000     0.136     0.239        59\n",
      "\n",
      "    accuracy                          0.755      1950\n",
      "   macro avg      0.834     0.541     0.575      1950\n",
      "weighted avg      0.761     0.755     0.744      1950\n",
      "\n"
     ]
    },
    {
     "data": {
      "text/plain": [
       "<Figure size 640x480 with 1 Axes>"
      ],
      "image/png": "[encoded data removed]"
     },
     "metadata": {},
     "output_type": "display_data"
    }
   ],
   "execution_count": 10
  },
  {
   "metadata": {
    "ExecuteTime": {
     "end_time": "2024-05-10T06:52:01.574769Z",
     "start_time": "2024-05-10T06:52:01.527947Z"
    }
   },
   "cell_type": "code",
   "source": [
    "# the function convert the ordinal target into binary target\n",
    "data_Y_info = pd.concat(\n",
    "    [data_Y.rename('Y label', inplace=False),\n",
    "     pd.DataFrame(\n",
    "         model.create_ordinal_target(data_Y),\n",
    "         index=data_Y.index,\n",
    "         columns=[f'Y<={i}' for i in range(model.n_classes_-1)])], \n",
    "    axis=1)\n",
    "\n",
    "assert np.all(data_Y_info['Y<=1'] >= data_Y_info['Y<=0'])"
   ],
   "id": "c95962a75b359866",
   "outputs": [],
   "execution_count": 76
  },
  {
   "metadata": {},
   "cell_type": "markdown",
   "source": "#### Random Forest Classification",
   "id": "80678d47f023c2da"
  },
  {
   "metadata": {
    "ExecuteTime": {
     "end_time": "2024-05-10T06:53:25.137717Z",
     "start_time": "2024-05-10T06:53:21.537070Z"
    }
   },
   "cell_type": "code",
   "source": [
    "from sklearn.ensemble import RandomForestClassifier\n",
    "\n",
    "model = RandomForestClassifier(n_estimators=500, max_depth=8)\n",
    "model.fit(train_X, train_Y)\n",
    "\n",
    "# Feature importance\n",
    "feat_imp = pd.Series(model.feature_importances_, index=data_X.columns)\n",
    "feat_imp.plot.barh()\n",
    "\n",
    "# Model performance\n",
    "print_performance(test_Y, model.predict(test_X))"
   ],
   "id": "936fbea48322593c",
   "outputs": [
    {
     "name": "stdout",
     "output_type": "stream",
     "text": [
      "Accuracy: 0.7492307692307693 \n",
      " Confusion matrix:\n",
      " [[ 438  278    0]\n",
      " [ 152 1023    0]\n",
      " [   0   59    0]] \n",
      " Classification report: \n",
      "               precision    recall  f1-score   support\n",
      "\n",
      "           0       0.74      0.61      0.67       716\n",
      "           1       0.75      0.87      0.81      1175\n",
      "           2       0.00      0.00      0.00        59\n",
      "\n",
      "    accuracy                           0.75      1950\n",
      "   macro avg       0.50      0.49      0.49      1950\n",
      "weighted avg       0.73      0.75      0.73      1950\n",
      "\n"
     ]
    },
    {
     "name": "stderr",
     "output_type": "stream",
     "text": [
      "C:\\ProgramData\\miniforge3\\envs\\py310geo\\lib\\site-packages\\sklearn\\metrics\\_classification.py:1509: UndefinedMetricWarning: Precision is ill-defined and being set to 0.0 in labels with no predicted samples. Use `zero_division` parameter to control this behavior.\n",
      "  _warn_prf(average, modifier, f\"{metric.capitalize()} is\", len(result))\n",
      "C:\\ProgramData\\miniforge3\\envs\\py310geo\\lib\\site-packages\\sklearn\\metrics\\_classification.py:1509: UndefinedMetricWarning: Precision is ill-defined and being set to 0.0 in labels with no predicted samples. Use `zero_division` parameter to control this behavior.\n",
      "  _warn_prf(average, modifier, f\"{metric.capitalize()} is\", len(result))\n",
      "C:\\ProgramData\\miniforge3\\envs\\py310geo\\lib\\site-packages\\sklearn\\metrics\\_classification.py:1509: UndefinedMetricWarning: Precision is ill-defined and being set to 0.0 in labels with no predicted samples. Use `zero_division` parameter to control this behavior.\n",
      "  _warn_prf(average, modifier, f\"{metric.capitalize()} is\", len(result))\n"
     ]
    },
    {
     "data": {
      "text/plain": [
       "<Figure size 640x480 with 1 Axes>"
      ],
      "image/png": "[encoded data removed]"
     },
     "metadata": {},
     "output_type": "display_data"
    }
   ],
   "execution_count": 78
  },
  {
   "metadata": {
    "ExecuteTime": {
     "end_time": "2024-05-10T07:58:39.215603Z",
     "start_time": "2024-05-10T07:58:36.096130Z"
    }
   },
   "cell_type": "code",
   "source": [
    "def linear_predict(res, data_X, data_Y):\n",
    "    data_Y_pred = pd.DataFrame(res.predict(data_X).values, columns=data_Y.cat.categories, index=data_X.index) \\\n",
    "                    .idxmax(axis=1)\n",
    "    return data_Y_pred\n",
    "# =============================================================================\n",
    "\n",
    "from statsmodels.miscmodels.ordinal_model import OrderedModel\n",
    "mod = OrderedModel(train_Y, train_X, distr='logit')\n",
    "\n",
    "# model fitting\n",
    "res = mod.fit(method='bfgs', disp=False, maxiter=100)\n",
    "print(res.summary())\n",
    "\n",
    "# test performance\n",
    "test_Y_pred = linear_predict(res, test_X, test_Y)\n",
    "print_performance(test_Y, test_Y_pred)"
   ],
   "id": "6a27e668e7a1b5f0",
   "outputs": [
    {
     "name": "stdout",
     "output_type": "stream",
     "text": [
      "                             OrderedModel Results                             \n",
      "==============================================================================\n",
      "Dep. Variable:                quality   Log-Likelihood:                -2871.0\n",
      "Model:                   OrderedModel   AIC:                             5770.\n",
      "Method:            Maximum Likelihood   BIC:                             5860.\n",
      "Date:                Fri, 10 May 2024                                         \n",
      "Time:                        15:58:39                                         \n",
      "No. Observations:                4547                                         \n",
      "Df Residuals:                    4533                                         \n",
      "Df Model:                          12                                         \n",
      "========================================================================================\n",
      "                           coef    std err          z      P>|z|      [0.025      0.975]\n",
      "----------------------------------------------------------------------------------------\n",
      "fixed acidity            0.0324      0.058      0.559      0.576      -0.081       0.146\n",
      "volatile acidity        -4.4597      0.329    -13.549      0.000      -5.105      -3.815\n",
      "citric acid             -0.7242      0.291     -2.485      0.013      -1.295      -0.153\n",
      "residual sugar           0.0705      0.022      3.224      0.001       0.028       0.113\n",
      "chlorides               -0.2776      1.243     -0.223      0.823      -2.713       2.158\n",
      "free sulfur dioxide      0.0174      0.003      6.026      0.000       0.012       0.023\n",
      "total sulfur dioxide    -0.0062      0.001     -5.298      0.000      -0.009      -0.004\n",
      "density                 -5.8809     53.174     -0.111      0.912    -110.101      98.339\n",
      "pH                       0.6882      0.337      2.045      0.041       0.029       1.348\n",
      "sulphates                1.7829      0.284      6.278      0.000       1.226       2.339\n",
      "alcohol                  0.9509      0.070     13.624      0.000       0.814       1.088\n",
      "color                    0.0826      0.210      0.393      0.694      -0.330       0.495\n",
      "Low/Medium               5.2259     52.310      0.100      0.920     -97.300     107.752\n",
      "Medium/High              1.5992      0.022     73.872      0.000       1.557       1.642\n",
      "========================================================================================\n",
      "Accuracy: 0.7235897435897436 \n",
      " Confusion matrix:\n",
      " [[  0   2  57]\n",
      " [  0 412 304]\n",
      " [  1 175 999]] \n",
      " Classification report: \n",
      "               precision    recall  f1-score   support\n",
      "\n",
      "        High       0.00      0.00      0.00        59\n",
      "         Low       0.70      0.58      0.63       716\n",
      "      Medium       0.73      0.85      0.79      1175\n",
      "\n",
      "    accuracy                           0.72      1950\n",
      "   macro avg       0.48      0.48      0.47      1950\n",
      "weighted avg       0.70      0.72      0.71      1950\n",
      "\n"
     ]
    }
   ],
   "execution_count": 108
  },
  {
   "metadata": {},
   "cell_type": "code",
   "outputs": [],
   "execution_count": null,
   "source": "",
   "id": "2a3f6bec2d89a4d9"
  }
 ],
 "metadata": {
  "kernelspec": {
   "display_name": "Python 3",
   "language": "python",
   "name": "python3"
  },
  "language_info": {
   "codemirror_mode": {
    "name": "ipython",
    "version": 2
   },
   "file_extension": ".py",
   "mimetype": "text/x-python",
   "name": "python",
   "nbconvert_exporter": "python",
   "pygments_lexer": "ipython2",
   "version": "2.7.6"
  }
 },
 "nbformat": 4,
 "nbformat_minor": 5
}
